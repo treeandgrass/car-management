{
 "cells": [
  {
   "cell_type": "code",
   "execution_count": 1,
   "metadata": {},
   "outputs": [],
   "source": [
    "import urllib,sys\n",
    "import ssl\n",
    "import json"
   ]
  },
  {
   "cell_type": "code",
   "execution_count": 2,
   "metadata": {},
   "outputs": [],
   "source": [
    "def get_access_token(url, ak, sk):\n",
    "    query = '&client_id=' + ak + '&client_secret=' + sk\n",
    "    url = url + query\n",
    "    request = urllib.request.Request(url)\n",
    "    request.add_header('Content_Type', 'application/json; charset=UTF-8')\n",
    "    response = urllib.request.urlopen(request)\n",
    "    content = response.read()\n",
    "    data = content.decode('utf8')\n",
    "    jsonData = json.loads(data)\n",
    "    return jsonData"
   ]
  },
  {
   "cell_type": "code",
   "execution_count": 3,
   "metadata": {},
   "outputs": [],
   "source": [
    "\n",
    "# client_id 为官网获取的AK， client_secret 为官网获取的SK\n",
    "ak = 'MAkwqsESSPAmptjp4WZVHQ5E'\n",
    "sk = 'wqW926azOAG0jBvRcz6vnT3kxepG31rK'\n",
    "host = 'https://aip.baidubce.com/oauth/2.0/token?grant_type=client_credentials'\n",
    "access_token = get_access_token(host, ak, sk)['access_token']"
   ]
  },
  {
   "cell_type": "code",
   "execution_count": 4,
   "metadata": {},
   "outputs": [
    {
     "name": "stdout",
     "output_type": "stream",
     "text": [
      "24.75e93821bcb919a419d9475c2db4de0f.2592000.1524408461.282335-10951162\n"
     ]
    }
   ],
   "source": [
    "print(access_token)"
   ]
  },
  {
   "cell_type": "code",
   "execution_count": 5,
   "metadata": {},
   "outputs": [],
   "source": [
    "import json\n",
    "import io\n",
    "import base64\n",
    "import requests"
   ]
  },
  {
   "cell_type": "code",
   "execution_count": 6,
   "metadata": {},
   "outputs": [],
   "source": [
    "def callApi (dir, url):\n",
    "    with open(dir, 'rb') as f:\n",
    "        b64Image = base64.b64encode(f.read())\n",
    "    r = requests.post(url, { 'access_token': access_token, 'image': b64Image })\n",
    "    return r.json()"
   ]
  },
  {
   "cell_type": "code",
   "execution_count": 9,
   "metadata": {},
   "outputs": [],
   "source": [
    "url = 'https://aip.baidubce.com/rest/2.0/ocr/v1/license_plate'\n",
    "carInfoJson = callApi('./binary/4.jpeg', url) "
   ]
  },
  {
   "cell_type": "code",
   "execution_count": 10,
   "metadata": {},
   "outputs": [
    {
     "ename": "KeyError",
     "evalue": "'words_result'",
     "output_type": "error",
     "traceback": [
      "\u001b[1;31m---------------------------------------------------------------------------\u001b[0m",
      "\u001b[1;31mKeyError\u001b[0m                                  Traceback (most recent call last)",
      "\u001b[1;32m<ipython-input-10-30e0f60f22c7>\u001b[0m in \u001b[0;36m<module>\u001b[1;34m()\u001b[0m\n\u001b[1;32m----> 1\u001b[1;33m \u001b[0mprint\u001b[0m\u001b[1;33m(\u001b[0m\u001b[0mcarInfoJson\u001b[0m\u001b[1;33m[\u001b[0m\u001b[1;34m'words_result'\u001b[0m\u001b[1;33m]\u001b[0m\u001b[1;33m[\u001b[0m\u001b[1;34m'number'\u001b[0m\u001b[1;33m]\u001b[0m\u001b[1;33m)\u001b[0m\u001b[1;33m\u001b[0m\u001b[0m\n\u001b[0m",
      "\u001b[1;31mKeyError\u001b[0m: 'words_result'"
     ]
    }
   ],
   "source": [
    "print(carInfoJson['words_result']['number'])"
   ]
  },
  {
   "cell_type": "code",
   "execution_count": 12,
   "metadata": {},
   "outputs": [
    {
     "name": "stdout",
     "output_type": "stream",
     "text": [
      "{'log_id': 6432812510432917253, 'error_code': 282000, 'error_msg': 'internal error'}\n"
     ]
    }
   ],
   "source": [
    "print(carInfoJson)"
   ]
  },
  {
   "cell_type": "code",
   "execution_count": null,
   "metadata": {},
   "outputs": [],
   "source": []
  }
 ],
 "metadata": {
  "kernelspec": {
   "display_name": "Python 3",
   "language": "python",
   "name": "python3"
  },
  "language_info": {
   "codemirror_mode": {
    "name": "ipython",
    "version": 3
   },
   "file_extension": ".py",
   "mimetype": "text/x-python",
   "name": "python",
   "nbconvert_exporter": "python",
   "pygments_lexer": "ipython3",
   "version": "3.6.4"
  }
 },
 "nbformat": 4,
 "nbformat_minor": 2
}
