{
 "cells": [
  {
   "cell_type": "code",
   "execution_count": 81,
   "metadata": {},
   "outputs": [],
   "source": [
    "import base64\n",
    "import io\n",
    "from PIL import Image\n",
    "import urllib\n",
    "from urllib.request import urlopen, Request\n",
    "import os\n",
    "import requests\n",
    "import json"
   ]
  },
  {
   "cell_type": "code",
   "execution_count": 75,
   "metadata": {},
   "outputs": [],
   "source": [
    "apikey = 'A_uaYwZvoxOL5BYETpWH_VRjKqC-KZ5x'\n",
    "apisecret = 'QfgGj-LhWBmHOqZ5kdQgc74zCS_rjsbo'\n",
    "url = 'https://api-cn.faceplusplus.com/imagepp/v1/recognizetext?' + 'api_key=' + apikey + '&api_secret=' + apisecret"
   ]
  },
  {
   "cell_type": "code",
   "execution_count": 84,
   "metadata": {},
   "outputs": [],
   "source": [
    "params = { 'image_file': open('./0.jpg', 'rb')}\n",
    "r = requests.post(url, files = params)\n",
    "text = r.text"
   ]
  },
  {
   "cell_type": "code",
   "execution_count": 89,
   "metadata": {},
   "outputs": [
    {
     "data": {
      "text/plain": [
       "'\"{\\\\\"image_id\\\\\": \\\\\"HQ/V0m7979+A6HYLAP06Sw==\\\\\", \\\\\"result\\\\\": [{\\\\\"child-objects\\\\\": [{\\\\\"child-objects\\\\\": [], \\\\\"position\\\\\": [{\\\\\"y\\\\\": 202, \\\\\"x\\\\\": 206}, {\\\\\"y\\\\\": 202, \\\\\"x\\\\\": 243}, {\\\\\"y\\\\\": 241, \\\\\"x\\\\\": 243}, {\\\\\"y\\\\\": 242, \\\\\"x\\\\\": 207}], \\\\\"type\\\\\": \\\\\"character\\\\\", \\\\\"value\\\\\": \\\\\"M\\\\\"}, {\\\\\"child-objects\\\\\": [], \\\\\"position\\\\\": [{\\\\\"y\\\\\": 200, \\\\\"x\\\\\": 234}, {\\\\\"y\\\\\": 201, \\\\\"x\\\\\": 279}, {\\\\\"y\\\\\": 245, \\\\\"x\\\\\": 277}, {\\\\\"y\\\\\": 244, \\\\\"x\\\\\": 233}], \\\\\"type\\\\\": \\\\\"character\\\\\", \\\\\"value\\\\\": \\\\\"R\\\\\"}, {\\\\\"child-objects\\\\\": [], \\\\\"position\\\\\": [{\\\\\"y\\\\\": 202, \\\\\"x\\\\\": 286}, {\\\\\"y\\\\\": 205, \\\\\"x\\\\\": 330}, {\\\\\"y\\\\\": 247, \\\\\"x\\\\\": 328}, {\\\\\"y\\\\\": 246, \\\\\"x\\\\\": 284}], \\\\\"type\\\\\": \\\\\"character\\\\\", \\\\\"value\\\\\": \\\\\"0\\\\\"}], \\\\\"position\\\\\": [], \\\\\"type\\\\\": \\\\\"textline\\\\\", \\\\\"value\\\\\": \\\\\"MR0\\\\\"}, {\\\\\"child-objects\\\\\": [{\\\\\"child-objects\\\\\": [], \\\\\"position\\\\\": [{\\\\\"y\\\\\": 206, \\\\\"x\\\\\": 173}, {\\\\\"y\\\\\": 206, \\\\\"x\\\\\": 202}, {\\\\\"y\\\\\": 237, \\\\\"x\\\\\": 202}, {\\\\\"y\\\\\": 237, \\\\\"x\\\\\": 173}], \\\\\"type\\\\\": \\\\\"character\\\\\", \\\\\"value\\\\\": \\\\\"A\\\\\"}], \\\\\"position\\\\\": [], \\\\\"type\\\\\": \\\\\"textline\\\\\", \\\\\"value\\\\\": \\\\\"A\\\\\"}, {\\\\\"child-objects\\\\\": [{\\\\\"child-objects\\\\\": [], \\\\\"position\\\\\": [{\\\\\"y\\\\\": 100, \\\\\"x\\\\\": 480}, {\\\\\"y\\\\\": 98, \\\\\"x\\\\\": 484}, {\\\\\"y\\\\\": 103, \\\\\"x\\\\\": 486}, {\\\\\"y\\\\\": 105, \\\\\"x\\\\\": 481}], \\\\\"type\\\\\": \\\\\"character\\\\\", \\\\\"value\\\\\": \\\\\"-\\\\\"}, {\\\\\"child-objects\\\\\": [], \\\\\"position\\\\\": [{\\\\\"y\\\\\": 98, \\\\\"x\\\\\": 482}, {\\\\\"y\\\\\": 95, \\\\\"x\\\\\": 487}, {\\\\\"y\\\\\": 100, \\\\\"x\\\\\": 490}, {\\\\\"y\\\\\": 103, \\\\\"x\\\\\": 485}], \\\\\"type\\\\\": \\\\\"character\\\\\", \\\\\"value\\\\\": \\\\\"-\\\\\"}], \\\\\"position\\\\\": [], \\\\\"type\\\\\": \\\\\"textline\\\\\", \\\\\"value\\\\\": \\\\\"--\\\\\"}], \\\\\"request_id\\\\\": \\\\\"1521439282,6bbbf29b-1061-4443-b13d-715ba28c2eff\\\\\", \\\\\"time_used\\\\\": 922}\"'"
      ]
     },
     "execution_count": 89,
     "metadata": {},
     "output_type": "execute_result"
    }
   ],
   "source": [
    "json.dumps(text, sort_keys=True, indent =4, separators=(',', ': '))"
   ]
  },
  {
   "cell_type": "code",
   "execution_count": null,
   "metadata": {},
   "outputs": [],
   "source": []
  }
 ],
 "metadata": {
  "kernelspec": {
   "display_name": "Python 3",
   "language": "python",
   "name": "python3"
  },
  "language_info": {
   "codemirror_mode": {
    "name": "ipython",
    "version": 3
   },
   "file_extension": ".py",
   "mimetype": "text/x-python",
   "name": "python",
   "nbconvert_exporter": "python",
   "pygments_lexer": "ipython3",
   "version": "3.6.4"
  }
 },
 "nbformat": 4,
 "nbformat_minor": 2
}
