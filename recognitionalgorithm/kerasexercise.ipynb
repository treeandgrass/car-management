{
 "cells": [
  {
   "cell_type": "code",
   "execution_count": 1,
   "metadata": {},
   "outputs": [
    {
     "name": "stderr",
     "output_type": "stream",
     "text": [
      "D:\\sf\\conda\\lib\\site-packages\\h5py\\__init__.py:36: FutureWarning: Conversion of the second argument of issubdtype from `float` to `np.floating` is deprecated. In future, it will be treated as `np.float64 == np.dtype(float).type`.\n",
      "  from ._conv import register_converters as _register_converters\n",
      "Using TensorFlow backend.\n"
     ]
    }
   ],
   "source": [
    "import numpy as np\n",
    "import keras\n",
    "from keras.layers import Dense, TimeDistributed, Input\n",
    "from keras.models import Model"
   ]
  },
  {
   "cell_type": "code",
   "execution_count": 2,
   "metadata": {},
   "outputs": [
    {
     "name": "stdout",
     "output_type": "stream",
     "text": [
      "(1000, 10)\n"
     ]
    }
   ],
   "source": [
    "labels = np.random.randint(10, size = (1000, 1))\n",
    "one_hot_labels = keras.utils.to_categorical(labels, num_classes = 10)\n",
    "print(one_hot_labels.shape)"
   ]
  },
  {
   "cell_type": "code",
   "execution_count": 3,
   "metadata": {},
   "outputs": [],
   "source": [
    "def get_model(shape):\n",
    "    inputs = Input(shape = shape)\n",
    "    X = Dense(64, activation = 'relu')(inputs)\n",
    "    X = Dense(32, activation = 'relu')(X)\n",
    "    outputs = Dense(32, activation = 'softmax')(X)\n",
    "    model = Model(inputs = inputs, outputs = outputs)\n",
    "    return model"
   ]
  },
  {
   "cell_type": "code",
   "execution_count": 4,
   "metadata": {},
   "outputs": [],
   "source": [
    "model = get_model((784, ))"
   ]
  },
  {
   "cell_type": "code",
   "execution_count": 5,
   "metadata": {},
   "outputs": [
    {
     "name": "stdout",
     "output_type": "stream",
     "text": [
      "(20, 784)\n",
      "(20, 32)\n"
     ]
    }
   ],
   "source": [
    "inputs = np.random.randint(10, size = (20, 784))\n",
    "labels = np.random.randint(10, size = (20, 32))\n",
    "print(inputs.shape)\n",
    "print(labels.shape)"
   ]
  },
  {
   "cell_type": "code",
   "execution_count": 6,
   "metadata": {},
   "outputs": [],
   "source": [
    "model.compile(loss = 'categorical_crossentropy', optimizer = 'rmsprop', metrics = ['accuracy'])"
   ]
  },
  {
   "cell_type": "code",
   "execution_count": 7,
   "metadata": {},
   "outputs": [
    {
     "name": "stdout",
     "output_type": "stream",
     "text": [
      "Epoch 1/5\n",
      "20/20 [==============================] - 0s 20ms/step - loss: 775.4324 - acc: 0.1000\n",
      "Epoch 2/5\n",
      "20/20 [==============================] - 0s 3ms/step - loss: 520.4101 - acc: 0.0500\n",
      "Epoch 3/5\n",
      "20/20 [==============================] - 0s 2ms/step - loss: 508.9082 - acc: 0.0000e+00\n",
      "Epoch 4/5\n",
      "20/20 [==============================] - 0s 2ms/step - loss: 508.5298 - acc: 0.0500\n",
      "Epoch 5/5\n",
      "20/20 [==============================] - 0s 3ms/step - loss: 508.5588 - acc: 0.0000e+00\n"
     ]
    },
    {
     "data": {
      "text/plain": [
       "<keras.callbacks.History at 0x2e87cb3f160>"
      ]
     },
     "execution_count": 7,
     "metadata": {},
     "output_type": "execute_result"
    }
   ],
   "source": [
    "# training\n",
    "model.fit(x = inputs, y = labels, batch_size = 1, epochs = 5)"
   ]
  },
  {
   "cell_type": "code",
   "execution_count": 8,
   "metadata": {},
   "outputs": [],
   "source": [
    "input_sequences = Input(shape = (20, 784))\n",
    "predict_sequences = TimeDistributed(model)(input_sequences)"
   ]
  },
  {
   "cell_type": "code",
   "execution_count": 9,
   "metadata": {},
   "outputs": [
    {
     "name": "stdout",
     "output_type": "stream",
     "text": [
      "Tensor(\"time_distributed_1/Reshape_1:0\", shape=(?, 20, 32), dtype=float32)\n"
     ]
    }
   ],
   "source": [
    "print(predict_sequences)"
   ]
  },
  {
   "cell_type": "code",
   "execution_count": 10,
   "metadata": {},
   "outputs": [
    {
     "name": "stdout",
     "output_type": "stream",
     "text": [
      "(None, 20)\n",
      "(?, 20)\n",
      "<keras.layers.recurrent.LSTM object at 0x000002E87D2724E0>\n",
      "Tensor(\"lstm_1/TensorArrayReadV3:0\", shape=(?, 20), dtype=float32)\n"
     ]
    }
   ],
   "source": [
    "from keras.layers import LSTM\n",
    "x = Input(shape = (32, 128))\n",
    "lstm = LSTM(20)\n",
    "a_lstm = lstm(x)\n",
    "assert lstm.output == a_lstm\n",
    "print(lstm.output_shape)\n",
    "print(a_lstm.get_shape())\n",
    "print(lstm)\n",
    "print(a_lstm)"
   ]
  },
  {
   "cell_type": "code",
   "execution_count": 11,
   "metadata": {},
   "outputs": [],
   "source": [
    "model_json = model.to_json()"
   ]
  },
  {
   "cell_type": "code",
   "execution_count": 12,
   "metadata": {},
   "outputs": [],
   "source": [
    "from keras.models import model_from_json\n",
    "newmodel = model_from_json(model_json)"
   ]
  },
  {
   "cell_type": "code",
   "execution_count": 13,
   "metadata": {},
   "outputs": [],
   "source": [
    "config = model.get_config()\n",
    "configmodel = Model.from_config(config)"
   ]
  },
  {
   "cell_type": "code",
   "execution_count": 14,
   "metadata": {},
   "outputs": [
    {
     "name": "stdout",
     "output_type": "stream",
     "text": [
      "backend: tensorflow\n",
      "class_name: Model\n",
      "config:\n",
      "  input_layers:\n",
      "  - [input_1, 0, 0]\n",
      "  layers:\n",
      "  - class_name: InputLayer\n",
      "    config:\n",
      "      batch_input_shape: !!python/tuple [null, 784]\n",
      "      dtype: float32\n",
      "      name: input_1\n",
      "      sparse: false\n",
      "    inbound_nodes: []\n",
      "    name: input_1\n",
      "  - class_name: Dense\n",
      "    config:\n",
      "      activation: relu\n",
      "      activity_regularizer: null\n",
      "      bias_constraint: null\n",
      "      bias_initializer:\n",
      "        class_name: Zeros\n",
      "        config: {}\n",
      "      bias_regularizer: null\n",
      "      kernel_constraint: null\n",
      "      kernel_initializer:\n",
      "        class_name: VarianceScaling\n",
      "        config: {distribution: uniform, mode: fan_avg, scale: 1.0, seed: null}\n",
      "      kernel_regularizer: null\n",
      "      name: dense_1\n",
      "      trainable: true\n",
      "      units: 64\n",
      "      use_bias: true\n",
      "    inbound_nodes:\n",
      "    - - - input_1\n",
      "        - 0\n",
      "        - 0\n",
      "        - {}\n",
      "    name: dense_1\n",
      "  - class_name: Dense\n",
      "    config:\n",
      "      activation: relu\n",
      "      activity_regularizer: null\n",
      "      bias_constraint: null\n",
      "      bias_initializer:\n",
      "        class_name: Zeros\n",
      "        config: {}\n",
      "      bias_regularizer: null\n",
      "      kernel_constraint: null\n",
      "      kernel_initializer:\n",
      "        class_name: VarianceScaling\n",
      "        config: {distribution: uniform, mode: fan_avg, scale: 1.0, seed: null}\n",
      "      kernel_regularizer: null\n",
      "      name: dense_2\n",
      "      trainable: true\n",
      "      units: 32\n",
      "      use_bias: true\n",
      "    inbound_nodes:\n",
      "    - - - dense_1\n",
      "        - 0\n",
      "        - 0\n",
      "        - {}\n",
      "    name: dense_2\n",
      "  - class_name: Dense\n",
      "    config:\n",
      "      activation: softmax\n",
      "      activity_regularizer: null\n",
      "      bias_constraint: null\n",
      "      bias_initializer:\n",
      "        class_name: Zeros\n",
      "        config: {}\n",
      "      bias_regularizer: null\n",
      "      kernel_constraint: null\n",
      "      kernel_initializer:\n",
      "        class_name: VarianceScaling\n",
      "        config: {distribution: uniform, mode: fan_avg, scale: 1.0, seed: null}\n",
      "      kernel_regularizer: null\n",
      "      name: dense_3\n",
      "      trainable: true\n",
      "      units: 32\n",
      "      use_bias: true\n",
      "    inbound_nodes:\n",
      "    - - - dense_2\n",
      "        - 0\n",
      "        - 0\n",
      "        - {}\n",
      "    name: dense_3\n",
      "  name: model_1\n",
      "  output_layers:\n",
      "  - [dense_3, 0, 0]\n",
      "keras_version: 2.1.5\n",
      "\n"
     ]
    }
   ],
   "source": [
    "from keras.models import model_from_yaml\n",
    "yaml = model.to_yaml()\n",
    "print(yaml)\n",
    "yarmmodel = model_from_yaml(yaml)"
   ]
  },
  {
   "cell_type": "code",
   "execution_count": 18,
   "metadata": {},
   "outputs": [],
   "source": [
    "from keras.utils import plot_model\n",
    "plot_model(model, show_shapes=True, to_file='model.png') "
   ]
  },
  {
   "cell_type": "code",
   "execution_count": 20,
   "metadata": {},
   "outputs": [
    {
     "data": {
      "image/svg+xml": [
       "<svg height=\"304pt\" viewBox=\"0.00 0.00 273.00 304.00\" width=\"273pt\" xmlns=\"http://www.w3.org/2000/svg\" xmlns:xlink=\"http://www.w3.org/1999/xlink\">\n",
       "<g class=\"graph\" id=\"graph0\" transform=\"scale(1 1) rotate(0) translate(4 300)\">\n",
       "<title>G</title>\n",
       "<polygon fill=\"white\" points=\"-4,4 -4,-300 269,-300 269,4 -4,4\" stroke=\"none\"/>\n",
       "<!-- 3197547054752 -->\n",
       "<g class=\"node\" id=\"node1\"><title>3197547054752</title>\n",
       "<polygon fill=\"none\" points=\"0,-249.5 0,-295.5 265,-295.5 265,-249.5 0,-249.5\" stroke=\"black\"/>\n",
       "<text font-family=\"Times New Roman,serif\" font-size=\"14.00\" text-anchor=\"middle\" x=\"63\" y=\"-268.8\">input_1: InputLayer</text>\n",
       "<polyline fill=\"none\" points=\"126,-249.5 126,-295.5 \" stroke=\"black\"/>\n",
       "<text font-family=\"Times New Roman,serif\" font-size=\"14.00\" text-anchor=\"middle\" x=\"154\" y=\"-280.3\">input:</text>\n",
       "<polyline fill=\"none\" points=\"126,-272.5 182,-272.5 \" stroke=\"black\"/>\n",
       "<text font-family=\"Times New Roman,serif\" font-size=\"14.00\" text-anchor=\"middle\" x=\"154\" y=\"-257.3\">output:</text>\n",
       "<polyline fill=\"none\" points=\"182,-249.5 182,-295.5 \" stroke=\"black\"/>\n",
       "<text font-family=\"Times New Roman,serif\" font-size=\"14.00\" text-anchor=\"middle\" x=\"223.5\" y=\"-280.3\">(None, 784)</text>\n",
       "<polyline fill=\"none\" points=\"182,-272.5 265,-272.5 \" stroke=\"black\"/>\n",
       "<text font-family=\"Times New Roman,serif\" font-size=\"14.00\" text-anchor=\"middle\" x=\"223.5\" y=\"-257.3\">(None, 784)</text>\n",
       "</g>\n",
       "<!-- 3197428006984 -->\n",
       "<g class=\"node\" id=\"node2\"><title>3197428006984</title>\n",
       "<polygon fill=\"none\" points=\"11,-166.5 11,-212.5 254,-212.5 254,-166.5 11,-166.5\" stroke=\"black\"/>\n",
       "<text font-family=\"Times New Roman,serif\" font-size=\"14.00\" text-anchor=\"middle\" x=\"63\" y=\"-185.8\">dense_1: Dense</text>\n",
       "<polyline fill=\"none\" points=\"115,-166.5 115,-212.5 \" stroke=\"black\"/>\n",
       "<text font-family=\"Times New Roman,serif\" font-size=\"14.00\" text-anchor=\"middle\" x=\"143\" y=\"-197.3\">input:</text>\n",
       "<polyline fill=\"none\" points=\"115,-189.5 171,-189.5 \" stroke=\"black\"/>\n",
       "<text font-family=\"Times New Roman,serif\" font-size=\"14.00\" text-anchor=\"middle\" x=\"143\" y=\"-174.3\">output:</text>\n",
       "<polyline fill=\"none\" points=\"171,-166.5 171,-212.5 \" stroke=\"black\"/>\n",
       "<text font-family=\"Times New Roman,serif\" font-size=\"14.00\" text-anchor=\"middle\" x=\"212.5\" y=\"-197.3\">(None, 784)</text>\n",
       "<polyline fill=\"none\" points=\"171,-189.5 254,-189.5 \" stroke=\"black\"/>\n",
       "<text font-family=\"Times New Roman,serif\" font-size=\"14.00\" text-anchor=\"middle\" x=\"212.5\" y=\"-174.3\">(None, 64)</text>\n",
       "</g>\n",
       "<!-- 3197547054752&#45;&gt;3197428006984 -->\n",
       "<g class=\"edge\" id=\"edge1\"><title>3197547054752-&gt;3197428006984</title>\n",
       "<path d=\"M132.5,-249.366C132.5,-241.152 132.5,-231.658 132.5,-222.725\" fill=\"none\" stroke=\"black\"/>\n",
       "<polygon fill=\"black\" points=\"136,-222.607 132.5,-212.607 129,-222.607 136,-222.607\" stroke=\"black\"/>\n",
       "</g>\n",
       "<!-- 3197546941128 -->\n",
       "<g class=\"node\" id=\"node3\"><title>3197546941128</title>\n",
       "<polygon fill=\"none\" points=\"14,-83.5 14,-129.5 251,-129.5 251,-83.5 14,-83.5\" stroke=\"black\"/>\n",
       "<text font-family=\"Times New Roman,serif\" font-size=\"14.00\" text-anchor=\"middle\" x=\"66\" y=\"-102.8\">dense_2: Dense</text>\n",
       "<polyline fill=\"none\" points=\"118,-83.5 118,-129.5 \" stroke=\"black\"/>\n",
       "<text font-family=\"Times New Roman,serif\" font-size=\"14.00\" text-anchor=\"middle\" x=\"146\" y=\"-114.3\">input:</text>\n",
       "<polyline fill=\"none\" points=\"118,-106.5 174,-106.5 \" stroke=\"black\"/>\n",
       "<text font-family=\"Times New Roman,serif\" font-size=\"14.00\" text-anchor=\"middle\" x=\"146\" y=\"-91.3\">output:</text>\n",
       "<polyline fill=\"none\" points=\"174,-83.5 174,-129.5 \" stroke=\"black\"/>\n",
       "<text font-family=\"Times New Roman,serif\" font-size=\"14.00\" text-anchor=\"middle\" x=\"212.5\" y=\"-114.3\">(None, 64)</text>\n",
       "<polyline fill=\"none\" points=\"174,-106.5 251,-106.5 \" stroke=\"black\"/>\n",
       "<text font-family=\"Times New Roman,serif\" font-size=\"14.00\" text-anchor=\"middle\" x=\"212.5\" y=\"-91.3\">(None, 32)</text>\n",
       "</g>\n",
       "<!-- 3197428006984&#45;&gt;3197546941128 -->\n",
       "<g class=\"edge\" id=\"edge2\"><title>3197428006984-&gt;3197546941128</title>\n",
       "<path d=\"M132.5,-166.366C132.5,-158.152 132.5,-148.658 132.5,-139.725\" fill=\"none\" stroke=\"black\"/>\n",
       "<polygon fill=\"black\" points=\"136,-139.607 132.5,-129.607 129,-139.607 136,-139.607\" stroke=\"black\"/>\n",
       "</g>\n",
       "<!-- 3197547174824 -->\n",
       "<g class=\"node\" id=\"node4\"><title>3197547174824</title>\n",
       "<polygon fill=\"none\" points=\"14,-0.5 14,-46.5 251,-46.5 251,-0.5 14,-0.5\" stroke=\"black\"/>\n",
       "<text font-family=\"Times New Roman,serif\" font-size=\"14.00\" text-anchor=\"middle\" x=\"66\" y=\"-19.8\">dense_3: Dense</text>\n",
       "<polyline fill=\"none\" points=\"118,-0.5 118,-46.5 \" stroke=\"black\"/>\n",
       "<text font-family=\"Times New Roman,serif\" font-size=\"14.00\" text-anchor=\"middle\" x=\"146\" y=\"-31.3\">input:</text>\n",
       "<polyline fill=\"none\" points=\"118,-23.5 174,-23.5 \" stroke=\"black\"/>\n",
       "<text font-family=\"Times New Roman,serif\" font-size=\"14.00\" text-anchor=\"middle\" x=\"146\" y=\"-8.3\">output:</text>\n",
       "<polyline fill=\"none\" points=\"174,-0.5 174,-46.5 \" stroke=\"black\"/>\n",
       "<text font-family=\"Times New Roman,serif\" font-size=\"14.00\" text-anchor=\"middle\" x=\"212.5\" y=\"-31.3\">(None, 32)</text>\n",
       "<polyline fill=\"none\" points=\"174,-23.5 251,-23.5 \" stroke=\"black\"/>\n",
       "<text font-family=\"Times New Roman,serif\" font-size=\"14.00\" text-anchor=\"middle\" x=\"212.5\" y=\"-8.3\">(None, 32)</text>\n",
       "</g>\n",
       "<!-- 3197546941128&#45;&gt;3197547174824 -->\n",
       "<g class=\"edge\" id=\"edge3\"><title>3197546941128-&gt;3197547174824</title>\n",
       "<path d=\"M132.5,-83.3664C132.5,-75.1516 132.5,-65.6579 132.5,-56.7252\" fill=\"none\" stroke=\"black\"/>\n",
       "<polygon fill=\"black\" points=\"136,-56.6068 132.5,-46.6068 129,-56.6069 136,-56.6068\" stroke=\"black\"/>\n",
       "</g>\n",
       "</g>\n",
       "</svg>"
      ],
      "text/plain": [
       "<IPython.core.display.SVG object>"
      ]
     },
     "execution_count": 20,
     "metadata": {},
     "output_type": "execute_result"
    }
   ],
   "source": [
    "from keras.utils.vis_utils import model_to_dot\n",
    "from IPython.display import SVG\n",
    "SVG(model_to_dot(model, show_shapes = True).create(prog = 'dot', format = 'svg'))"
   ]
  },
  {
   "cell_type": "code",
   "execution_count": 16,
   "metadata": {},
   "outputs": [
    {
     "name": "stdout",
     "output_type": "stream",
     "text": [
      "_________________________________________________________________\n",
      "Layer (type)                 Output Shape              Param #   \n",
      "=================================================================\n",
      "input_1 (InputLayer)         (None, 784)               0         \n",
      "_________________________________________________________________\n",
      "dense_1 (Dense)              (None, 64)                50240     \n",
      "_________________________________________________________________\n",
      "dense_2 (Dense)              (None, 32)                2080      \n",
      "_________________________________________________________________\n",
      "dense_3 (Dense)              (None, 32)                1056      \n",
      "=================================================================\n",
      "Total params: 53,376\n",
      "Trainable params: 53,376\n",
      "Non-trainable params: 0\n",
      "_________________________________________________________________\n"
     ]
    }
   ],
   "source": [
    "model.summary()"
   ]
  },
  {
   "cell_type": "code",
   "execution_count": 17,
   "metadata": {},
   "outputs": [
    {
     "name": "stdout",
     "output_type": "stream",
     "text": [
      "_________________________________________________________________\n",
      "Layer (type)                 Output Shape              Param #   \n",
      "=================================================================\n",
      "input_1 (InputLayer)         (None, 784)               0         \n",
      "_________________________________________________________________\n",
      "dense_1 (Dense)              (None, 64)                50240     \n",
      "_________________________________________________________________\n",
      "dense_2 (Dense)              (None, 32)                2080      \n",
      "_________________________________________________________________\n",
      "dense_3 (Dense)              (None, 32)                1056      \n",
      "=================================================================\n",
      "Total params: 53,376\n",
      "Trainable params: 53,376\n",
      "Non-trainable params: 0\n",
      "_________________________________________________________________\n"
     ]
    }
   ],
   "source": [
    "keras.utils.print_summary(model)"
   ]
  },
  {
   "cell_type": "code",
   "execution_count": 19,
   "metadata": {},
   "outputs": [
    {
     "ename": "AttributeError",
     "evalue": "module 'pydot' has no attribute 'find_graphviz'",
     "output_type": "error",
     "traceback": [
      "\u001b[1;31m---------------------------------------------------------------------------\u001b[0m",
      "\u001b[1;31mAttributeError\u001b[0m                            Traceback (most recent call last)",
      "\u001b[1;32m<ipython-input-19-d2b55da5800f>\u001b[0m in \u001b[0;36m<module>\u001b[1;34m()\u001b[0m\n\u001b[0;32m      1\u001b[0m \u001b[1;32mimport\u001b[0m \u001b[0mpydot\u001b[0m\u001b[1;33m\u001b[0m\u001b[0m\n\u001b[1;32m----> 2\u001b[1;33m \u001b[0mprint\u001b[0m\u001b[1;33m(\u001b[0m\u001b[0mpydot\u001b[0m\u001b[1;33m.\u001b[0m\u001b[0mfind_graphviz\u001b[0m\u001b[1;33m(\u001b[0m\u001b[1;33m)\u001b[0m\u001b[1;33m)\u001b[0m\u001b[1;33m\u001b[0m\u001b[0m\n\u001b[0m",
      "\u001b[1;31mAttributeError\u001b[0m: module 'pydot' has no attribute 'find_graphviz'"
     ]
    }
   ],
   "source": [
    "import pydot\n",
    "print(pydot.find_graphviz())"
   ]
  },
  {
   "cell_type": "code",
   "execution_count": 3,
   "metadata": {},
   "outputs": [],
   "source": [
    "from keras.models import Sequential\n",
    "from keras.layers import Embedding, Input\n",
    "import numpy as np"
   ]
  },
  {
   "cell_type": "code",
   "execution_count": 4,
   "metadata": {},
   "outputs": [],
   "source": [
    "model = Sequential()\n",
    "model.add(Embedding(1000, 64, input_length=10))\n",
    "# the model will take as input an integer matrix of size (batch, input_length).\n",
    "# the largest integer (i.e. word index) in the input should be no larger than 999 (vocabulary size).\n",
    "# now model.output_shape == (None, 10, 64), where None is the batch dimension.\n",
    "\n",
    "input_array = np.random.randint(1000, size=(32, 10))\n",
    "\n",
    "model.compile('rmsprop', 'mse')\n",
    "output_array = model.predict(input_array)"
   ]
  },
  {
   "cell_type": "code",
   "execution_count": 6,
   "metadata": {},
   "outputs": [
    {
     "name": "stdout",
     "output_type": "stream",
     "text": [
      "[[[-0.01497345 -0.01522357  0.00889629 ... -0.04517646 -0.04190551\n",
      "   -0.01757318]\n",
      "  [ 0.01358202 -0.02846065 -0.01214621 ...  0.03491494 -0.01855719\n",
      "   -0.02680466]\n",
      "  [-0.01788487 -0.04873728 -0.03988353 ...  0.00515053  0.03037453\n",
      "   -0.0238173 ]\n",
      "  ...\n",
      "  [ 0.02415426  0.03118536 -0.02355465 ... -0.01685913  0.04091917\n",
      "    0.04437596]\n",
      "  [-0.0069737   0.04701631  0.00301541 ... -0.01169133  0.03971852\n",
      "   -0.00352372]\n",
      "  [ 0.04430931  0.02990034  0.00283514 ...  0.04091004  0.02799548\n",
      "    0.04770157]]\n",
      "\n",
      " [[ 0.00075876 -0.04055823 -0.01744916 ...  0.02645299 -0.04977969\n",
      "   -0.03729086]\n",
      "  [-0.02992643 -0.02424361 -0.00805413 ...  0.01274524  0.04134972\n",
      "    0.02492117]\n",
      "  [ 0.04904534 -0.02951074 -0.04326428 ...  0.00170112 -0.00779705\n",
      "   -0.02403673]\n",
      "  ...\n",
      "  [-0.01054498 -0.00128621  0.02365856 ... -0.04595177 -0.01268773\n",
      "    0.03313873]\n",
      "  [-0.04241144 -0.00387422  0.0452084  ... -0.01008427 -0.04892981\n",
      "    0.01717896]\n",
      "  [ 0.04316204  0.02439247  0.00754588 ...  0.00974314 -0.04291446\n",
      "    0.0470327 ]]\n",
      "\n",
      " [[-0.01579086 -0.04422265 -0.03027149 ... -0.02914331  0.02336362\n",
      "    0.04435075]\n",
      "  [ 0.02232592 -0.0321058  -0.00916183 ... -0.02456865  0.00295131\n",
      "    0.02887449]\n",
      "  [ 0.01331332  0.04976772  0.01460784 ... -0.0452861  -0.04946276\n",
      "   -0.00556996]\n",
      "  ...\n",
      "  [ 0.03132348  0.0421032   0.04013871 ...  0.02229248  0.04173047\n",
      "   -0.04938591]\n",
      "  [ 0.02952651 -0.01004919 -0.03572824 ...  0.00431793  0.00437599\n",
      "    0.02895684]\n",
      "  [ 0.02157921 -0.00391161  0.0277085  ... -0.00682173 -0.0458207\n",
      "   -0.02955836]]\n",
      "\n",
      " ...\n",
      "\n",
      " [[ 0.02952651 -0.01004919 -0.03572824 ...  0.00431793  0.00437599\n",
      "    0.02895684]\n",
      "  [ 0.01889903  0.02727771 -0.04477123 ... -0.02334704 -0.00292964\n",
      "    0.03581167]\n",
      "  [ 0.00508746 -0.01451169  0.00349469 ...  0.00679934  0.02153425\n",
      "   -0.03001957]\n",
      "  ...\n",
      "  [ 0.03347112  0.026063   -0.04053495 ...  0.01704047  0.02318162\n",
      "    0.00089809]\n",
      "  [ 0.01051939 -0.00665175  0.01583237 ... -0.03732319 -0.01686467\n",
      "   -0.04626867]\n",
      "  [ 0.01889903  0.02727771 -0.04477123 ... -0.02334704 -0.00292964\n",
      "    0.03581167]]\n",
      "\n",
      " [[-0.03591541 -0.0425806   0.01411035 ...  0.00402483 -0.02092803\n",
      "    0.04664573]\n",
      "  [ 0.04274832 -0.03734297  0.03029387 ... -0.00263114  0.04526803\n",
      "    0.03349245]\n",
      "  [ 0.00823586  0.03761551 -0.04992364 ...  0.04022194 -0.01104183\n",
      "   -0.03480447]\n",
      "  ...\n",
      "  [ 0.01004618  0.00613371 -0.04083019 ...  0.0290292   0.03990537\n",
      "   -0.00352223]\n",
      "  [-0.04594263  0.01667615 -0.01485185 ... -0.00875843  0.02364263\n",
      "   -0.03270634]\n",
      "  [ 0.02359176 -0.04307853 -0.03707014 ... -0.02821785  0.01789441\n",
      "    0.015959  ]]\n",
      "\n",
      " [[ 0.01554279  0.00592631  0.02458416 ...  0.03515811  0.0071416\n",
      "   -0.00108081]\n",
      "  [-0.04388633  0.02090232  0.00684162 ...  0.00901397  0.0124868\n",
      "   -0.01533346]\n",
      "  [-0.00273628 -0.02343701  0.00506214 ...  0.04993978 -0.01369116\n",
      "   -0.0323588 ]\n",
      "  ...\n",
      "  [-0.03041896 -0.00470246  0.04435113 ...  0.00072588 -0.0252674\n",
      "   -0.01106047]\n",
      "  [-0.04440378  0.01903588 -0.04010662 ...  0.02005949  0.00217478\n",
      "    0.04182145]\n",
      "  [ 0.00963192 -0.02049185 -0.00166132 ...  0.04985433 -0.00055041\n",
      "    0.03075086]]]\n"
     ]
    }
   ],
   "source": [
    "print(output_array)"
   ]
  },
  {
   "cell_type": "code",
   "execution_count": null,
   "metadata": {},
   "outputs": [],
   "source": []
  }
 ],
 "metadata": {
  "kernelspec": {
   "display_name": "Python 3",
   "language": "python",
   "name": "python3"
  },
  "language_info": {
   "codemirror_mode": {
    "name": "ipython",
    "version": 3
   },
   "file_extension": ".py",
   "mimetype": "text/x-python",
   "name": "python",
   "nbconvert_exporter": "python",
   "pygments_lexer": "ipython3",
   "version": "3.6.4"
  }
 },
 "nbformat": 4,
 "nbformat_minor": 2
}
